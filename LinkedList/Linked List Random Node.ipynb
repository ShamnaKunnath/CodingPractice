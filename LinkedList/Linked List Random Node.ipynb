{
 "cells": [
  {
   "cell_type": "code",
   "execution_count": 10,
   "id": "ed159564",
   "metadata": {},
   "outputs": [
    {
     "name": "stdout",
     "output_type": "stream",
     "text": [
      "[1, 2, 3]\n",
      "3\n"
     ]
    }
   ],
   "source": [
    "import List\n",
    "import random\n",
    "class Solution:\n",
    "\n",
    "    def __init__(self, head=None):\n",
    "        self.head=head\n",
    "\n",
    "    def getRandom(self) -> int:\n",
    "        curr=self.head\n",
    "        li=[]\n",
    "        while curr:\n",
    "            li.append(curr.val)\n",
    "            curr=curr.next\n",
    "        rand=random.choice(li)\n",
    "        return rand\n",
    "L=List.LinkedList()\n",
    "L.push(3)\n",
    "L.push(2)\n",
    "L.push(1)\n",
    "print(L)\n",
    "\n",
    "solution=Solution(L.head)\n",
    "print(solution.getRandom())"
   ]
  }
 ],
 "metadata": {
  "kernelspec": {
   "display_name": "Python 3 (ipykernel)",
   "language": "python",
   "name": "python3"
  },
  "language_info": {
   "codemirror_mode": {
    "name": "ipython",
    "version": 3
   },
   "file_extension": ".py",
   "mimetype": "text/x-python",
   "name": "python",
   "nbconvert_exporter": "python",
   "pygments_lexer": "ipython3",
   "version": "3.9.12"
  }
 },
 "nbformat": 4,
 "nbformat_minor": 5
}
