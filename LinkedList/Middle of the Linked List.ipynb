{
 "cells": [
  {
   "cell_type": "code",
   "execution_count": 6,
   "id": "c45795c4",
   "metadata": {},
   "outputs": [
    {
     "name": "stdout",
     "output_type": "stream",
     "text": [
      "[1, 2, 3, 4, 5]\n",
      "[3, 4, 5]\n",
      "[0, 1, 2, 3, 4, 5]\n",
      "[3, 4, 5]\n"
     ]
    }
   ],
   "source": [
    "# Definition for singly-linked list.\n",
    "class ListNode:\n",
    "    def __init__(self, val=0, next=None):\n",
    "        self.val = val\n",
    "        self.next = next\n",
    "        \n",
    "    def __str__(self):\n",
    "        l=[]\n",
    "        head=self\n",
    "        while head:\n",
    "            l.append(head.val)\n",
    "            head=head.next\n",
    "        return str(l)\n",
    "        \n",
    "class LinkedList:\n",
    "    def __init__(self,head=None):\n",
    "        self.head=head\n",
    "    \n",
    "    def push(self,val):\n",
    "        node=ListNode(val)\n",
    "        node.next=self.head\n",
    "        self.head=node\n",
    "    def __str__(self):\n",
    "        l=[]\n",
    "        head=self.head\n",
    "        while head:\n",
    "            l.append(head.val)\n",
    "            head=head.next\n",
    "        return str(l)\n",
    "    \n",
    "class Solution:\n",
    "    def middleNode(self, head):\n",
    "        if head==None:\n",
    "            return None\n",
    "        length=1\n",
    "        curr=head\n",
    "        while(head!=None and head.next):\n",
    "            length+=1\n",
    "            head=head.next\n",
    "        i=length//2+1\n",
    "        while i>1:\n",
    "            curr=curr.next\n",
    "            i-=1\n",
    "        return curr\n",
    "\n",
    "L=LinkedList()\n",
    "L.push(5)\n",
    "L.push(4)\n",
    "L.push(3)\n",
    "L.push(2)\n",
    "L.push(1)\n",
    "\n",
    "print(L)\n",
    "\n",
    "soln=Solution()\n",
    "newL=soln.middleNode(L.head)\n",
    "print(newL)\n",
    "\n",
    "L.push(0)\n",
    "print(L)\n",
    "newL=soln.middleNode(L.head)\n",
    "print(newL)"
   ]
  },
  {
   "cell_type": "code",
   "execution_count": null,
   "id": "1018a1ea",
   "metadata": {},
   "outputs": [],
   "source": []
  },
  {
   "cell_type": "code",
   "execution_count": null,
   "id": "d976364e",
   "metadata": {},
   "outputs": [],
   "source": []
  }
 ],
 "metadata": {
  "kernelspec": {
   "display_name": "Python 3 (ipykernel)",
   "language": "python",
   "name": "python3"
  },
  "language_info": {
   "codemirror_mode": {
    "name": "ipython",
    "version": 3
   },
   "file_extension": ".py",
   "mimetype": "text/x-python",
   "name": "python",
   "nbconvert_exporter": "python",
   "pygments_lexer": "ipython3",
   "version": "3.9.12"
  }
 },
 "nbformat": 4,
 "nbformat_minor": 5
}
