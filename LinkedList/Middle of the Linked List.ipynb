{
 "cells": [
  {
   "cell_type": "code",
   "execution_count": 1,
   "id": "b6036116",
   "metadata": {},
   "outputs": [
    {
     "name": "stdout",
     "output_type": "stream",
     "text": [
      "[1, 2, 3, 4, 5]\n",
      "[3, 4, 5]\n",
      "[0, 1, 2, 3, 4, 5]\n",
      "[3, 4, 5]\n"
     ]
    }
   ],
   "source": [
    "import List     \n",
    "class Solution:\n",
    "    def middleNode(self, head):\n",
    "        if head==None:\n",
    "            return None\n",
    "        length=1\n",
    "        curr=head\n",
    "        while(head!=None and head.next):\n",
    "            length+=1\n",
    "            head=head.next\n",
    "        i=length//2+1\n",
    "        while i>1:\n",
    "            curr=curr.next\n",
    "            i-=1\n",
    "        return curr\n",
    "\n",
    "L=List.LinkedList()\n",
    "L.push(5)\n",
    "L.push(4)\n",
    "L.push(3)\n",
    "L.push(2)\n",
    "L.push(1)\n",
    "\n",
    "print(L)\n",
    "\n",
    "soln=Solution()\n",
    "newL=soln.middleNode(L.head)\n",
    "print(newL)\n",
    "\n",
    "L.push(0)\n",
    "print(L)\n",
    "newL=soln.middleNode(L.head)\n",
    "print(newL)"
   ]
  }
 ],
 "metadata": {
  "kernelspec": {
   "display_name": "Python 3 (ipykernel)",
   "language": "python",
   "name": "python3"
  },
  "language_info": {
   "codemirror_mode": {
    "name": "ipython",
    "version": 3
   },
   "file_extension": ".py",
   "mimetype": "text/x-python",
   "name": "python",
   "nbconvert_exporter": "python",
   "pygments_lexer": "ipython3",
   "version": "3.9.12"
  }
 },
 "nbformat": 4,
 "nbformat_minor": 5
}
